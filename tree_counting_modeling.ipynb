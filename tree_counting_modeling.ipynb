{
 "cells": [
  {
   "cell_type": "markdown",
   "metadata": {},
   "source": [
    "### Import Library"
   ]
  },
  {
   "cell_type": "code",
   "execution_count": null,
   "metadata": {},
   "outputs": [],
   "source": [
    "import cv2\n",
    "from matplotlib import pyplot as plt\n",
    "from PIL import Image\n",
    "from IPython.display import display\n",
    "from ultralytics import YOLO"
   ]
  },
  {
   "cell_type": "markdown",
   "metadata": {},
   "source": [
    "### Preprocessing input vide using CV2\n",
    "\n",
    "Please be noted that it is no need to execute code on this section. Since it has been done locally and only selected frame is annotated as explained on README.md"
   ]
  },
  {
   "cell_type": "code",
   "execution_count": null,
   "metadata": {},
   "outputs": [],
   "source": [
    "video_path = 'data/video/drone.mov'\n",
    "vidcap = cv2.VideoCapture(video_path)\n",
    "# vidcap.set(cv2.CAP_PROP_FPS)\n",
    "success,image = vidcap.read()\n",
    "count = 0\n",
    "success = True\n",
    "\n",
    "while success:\n",
    "  success,image = vidcap.read()\n",
    "  print('Read a new frame: ', success,end='\\r')\n",
    "  cv2.imwrite(\"data/raw/frame%d.jpg\" % count, image)     # save frame as JPEG file\n",
    "  count += 1"
   ]
  },
  {
   "cell_type": "markdown",
   "metadata": {},
   "source": [
    "### Training\n",
    "\n",
    "This section show code use for model training. Training time varies, depends on the aize of data and epoch and computing power of resource use.\n",
    "\n",
    "Please be noted that for data training on this assignment at least 15GB GPU RAM is needed. Therefore using google colab with GPU resource is recommended for traing purpose."
   ]
  },
  {
   "cell_type": "code",
   "execution_count": null,
   "metadata": {},
   "outputs": [],
   "source": [
    "model = YOLO(\"yolov5mu.pt\")  # build a new model from scratch\n",
    "\n",
    "model.to('cuda')\n",
    "\n",
    "# Train model\n",
    "model.train(data=\"config/tree_cfg.yml\", epochs=30,imgsz=640)  # train the model"
   ]
  },
  {
   "cell_type": "code",
   "execution_count": null,
   "metadata": {},
   "outputs": [],
   "source": []
  }
 ],
 "metadata": {
  "kernelspec": {
   "display_name": "py_cv",
   "language": "python",
   "name": "python3"
  },
  "language_info": {
   "codemirror_mode": {
    "name": "ipython",
    "version": 3
   },
   "file_extension": ".py",
   "mimetype": "text/x-python",
   "name": "python",
   "nbconvert_exporter": "python",
   "pygments_lexer": "ipython3",
   "version": "3.11.5"
  }
 },
 "nbformat": 4,
 "nbformat_minor": 2
}
